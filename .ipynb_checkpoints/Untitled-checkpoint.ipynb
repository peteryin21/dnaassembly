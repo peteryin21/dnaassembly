{
 "cells": [
  {
   "cell_type": "code",
   "execution_count": 63,
   "metadata": {
    "collapsed": false
   },
   "outputs": [],
   "source": [
    "from Bio import SeqIO"
   ]
  },
  {
   "cell_type": "code",
   "execution_count": 65,
   "metadata": {
    "collapsed": false,
    "scrolled": true
   },
   "outputs": [],
   "source": [
    "fasta_seq = SeqIO.parse('coding_challenge_data_set.txt', 'fasta')\n",
    "seqs = {}\n",
    "for fasta in fasta_seq:\n",
    "    seqs[fasta.id] = fasta.seq\n",
    "    "
   ]
  },
  {
   "cell_type": "code",
   "execution_count": 67,
   "metadata": {
    "collapsed": false
   },
   "outputs": [
    {
     "data": {
      "text/plain": [
       "dict_values([Seq('GCTTTCAGTGTATTCAGGTACGTCAGTCCAGAGTGAAGCTCCGAGCTGCGGAGA...TCA', SingleLetterAlphabet()), Seq('CTAGGGAGGAATGACTGCCGCATTCGACATCACCCAATCTATGCTCGGGTCCTT...CAT', SingleLetterAlphabet()), Seq('CGATACGCTAGCCTGGCATTCCCAAATAGGCGTTGCGTACGCATGCCTAAGCGC...TGC', SingleLetterAlphabet()), Seq('GCAAGGCAGACACAAGAGGGATAATAGGAGTCTCCGTACAGTAGCGGGAACCAT...GGT', SingleLetterAlphabet()), Seq('ACAAGCGCCGACCATTTATGGTCTTTGAGCTCCTAGAAAGGCTATGAGCCGGCT...TGT', SingleLetterAlphabet()), Seq('AAGATCGCAACGTAGGAGTGGTCACTTCACAAGGTTGCCCTCTGCCTAGAATCG...TTA', SingleLetterAlphabet()), Seq('CTACCTAATATTGGAAAAATCGTTTCCGAGCTAGCACTGGAATATAGGACGCTT...TGC', SingleLetterAlphabet()), Seq('TAGTGTGGGAAGCTTAACAAGCTGCGAACTGCAACTCAAACTTAAGACACCGCT...CGG', SingleLetterAlphabet()), Seq('GAAAGCGAAATTGATCCTAGCGAGCGGGTACTTAGCTGCCCCTCAGAGAGGCAC...CGC', SingleLetterAlphabet()), Seq('TCAGCCATTAGGCCTTAGCTTTTGGATTGTTCCTAAGTTTCGTTACCATTCCCA...GCA', SingleLetterAlphabet()), Seq('ATCGATCTGATACCCACTGCCATACCAAGTACGGGTGATTCTCAACTTCATCGG...TTT', SingleLetterAlphabet()), Seq('TTGAAGAACAGAAGTCGACGCAGAATAACCCCCGGGCATATCGGGGCTCACGTG...ACG', SingleLetterAlphabet()), Seq('CTAGTGAGGGCCTATCATGCCACGGACGAGAACATAAAAATCTATAAAGAGCCT...AGG', SingleLetterAlphabet()), Seq('GACCTGTGTCACTTAGATACCGTCGACCCATTATACGACTTTTGACATTGACTT...CGT', SingleLetterAlphabet()), Seq('GGTCTTGCTAAAGGAACGAGGCCCCGTTTCTCCAGCGGCAAGCTGCTCAGCCCA...CCT', SingleLetterAlphabet()), Seq('GGCTGTGGTTTGACCACGCGGGATTTGACAGTTGCGCCCGTACAGCATCCATCA...AGG', SingleLetterAlphabet()), Seq('GGCGAACATAGGTTAAGTCAAGACCGGAGCCTCTTCGATGAAGAAGAATCATCA...TCA', SingleLetterAlphabet()), Seq('CCTCTAGGATACTACCAATATCCTCTAGGCCACCTTACATTCATAGCACGTTCC...AAG', SingleLetterAlphabet()), Seq('TGACCCAGTGGACTGATTCATAAGTGGGCGCGAGAAGCGTAAATGGCAGGCCGC...ACT', SingleLetterAlphabet()), Seq('ATCTCCTTCTCTTGGGCCACAAAAAGCTCATCCCACTTTAATTTGGCCTCCGAG...GAC', SingleLetterAlphabet()), Seq('ATTTACCTAGAGCTGCGCTATCCCTAGCTGGGATGGAAGTCGCCCGGCGGAGAC...GAC', SingleLetterAlphabet()), Seq('TGTAGTTCGTAAAAGAACTTCCCAACGCACTGCCGTCTGCGTCGGTCGTGAAAT...TGT', SingleLetterAlphabet()), Seq('ATATGGCGGCCCACCTCCTTGGCCCACGGAGTCCCGCCTTTGCGCTGGTGAAGG...AAT', SingleLetterAlphabet()), Seq('TGCGGGGTCATCTTCCGCGTAGCAGTACCGCTCCAGATATCCTGCTGCGGGCGC...AGG', SingleLetterAlphabet()), Seq('AGAGCCGTGCCGTGATCACTGTAGGTACAGCCGCAATCGCGTTTGTTGAACACA...AGC', SingleLetterAlphabet()), Seq('CAATCCGTACCAACAAAGCGTACTTCTGCTACCGTATTATATTTTAGCCAACTC...TGA', SingleLetterAlphabet()), Seq('GTTCTATACCGATCCCCCGAGACTTGCCAATGGACATAGGAATGTCAAACTTAT...AAA', SingleLetterAlphabet()), Seq('TCACGACCAACCCATGTAGACTAACTACGCCCTATCGCCGGACTATGTTTGCGT...GGC', SingleLetterAlphabet()), Seq('GGTCATGGTCTGCCGCGTTCTCTCCGAGCGCAGGTCGAATGGTTCCACTCCGGA...GTG', SingleLetterAlphabet()), Seq('AGCACTCAACCGCCCACAGGTGGTATGCCCCAATCACGAGAGCTCTAGAAAACA...ACC', SingleLetterAlphabet()), Seq('CCGGACTCTCAGTCATATTCCGAAGACTCACGAACTACCCGACCTGGGCAACGA...TAG', SingleLetterAlphabet()), Seq('ATAGACTAGGTGAGAAAGCCTTCTAGACATGAGTTCTCTACCTGCCCGCAGTAA...TTT', SingleLetterAlphabet()), Seq('CCGACTGGACATTTCTTCGGGGTTTTTTGGGTCGCCATTGGATACATTTCATCC...CCC', SingleLetterAlphabet()), Seq('GCTACTAAGCTTCGCTCTTGCCCTAAGACCATAACCTTGTGGCTCCTGGATCTA...CAA', SingleLetterAlphabet()), Seq('CGTGTAAGAGTGAATACCCTCCATATCGGTCGCTAAAGGTCTTCTTGAAATGCT...TGA', SingleLetterAlphabet()), Seq('CGCCAACTGGGATGCAGAACCCTAGTATCGGCGAGTACGGATCGACTGACGGAC...GAG', SingleLetterAlphabet()), Seq('GTTACAAACTAGAGATCCGGACATTCCGAAAACCTTGCGGTTGCGAGAGGGGGG...AGT', SingleLetterAlphabet()), Seq('GATCTCGGATTAACGACGGGCTTCACTCTCATGCTGCATATGTAGGCAGCTAAT...GAC', SingleLetterAlphabet()), Seq('CGGCCAGAACGAAGACCCGACGGCCCTCATAGCTTACGGTCTGAAAGCCGTGTA...TGT', SingleLetterAlphabet()), Seq('CAAGGACGGACGGTCAATCCTGTGAGACCGTTCGGAGCTGCGCTTTATGACCGA...GTC', SingleLetterAlphabet()), Seq('TGGAAGGCAAGATGGCGCCCGACACAACAGACACTGTGTGAGGCACTTATAACA...ACC', SingleLetterAlphabet()), Seq('AGAGCTTTACGGGCCGTGAGAATTCTTCTGGCAACTTTATGTGCTTTCAGCTTA...TAA', SingleLetterAlphabet()), Seq('TCTGGATTTCATATTTTTGCAATGGTAATCATAGATGGTACGCGATACGACAGC...TTA', SingleLetterAlphabet()), Seq('AGTTCCGTAACAGCCTTACGGGTACCGTCGGTTCCATTTAAACTCGTCATTTGG...GCA', SingleLetterAlphabet()), Seq('ATGGCTAAAATGGCTGATAGGTTTATGGGGTGGCTCAACAAAAGCAGACCGGCA...AAA', SingleLetterAlphabet()), Seq('GCGCCCGGGGCAAGAGTCATTATACTTGAGAATATACATTTAACAGCGGGCTCA...AGG', SingleLetterAlphabet()), Seq('AATTAAGGGGACCGGGCCCCGCGCAGGCGGCGGTATCCAAGGTTTATGTTACTA...TAA', SingleLetterAlphabet()), Seq('AAAGGCCTGCATAGTCTTCTGTGGGGACTTTTGTCGTCAGACCGTATGCATATT...GCC', SingleLetterAlphabet()), Seq('TTCATACCTCGGATCTATCAATCCGAAGTACAGTAGTGCGCGATCGAAGAATCC...AAA', SingleLetterAlphabet()), Seq('CGGACGCCGGTCTGCTAATCGGAAGCTAAATCACCTGCGTTACACCTCTCTTAT...GAC', SingleLetterAlphabet())])"
      ]
     },
     "execution_count": 67,
     "metadata": {},
     "output_type": "execute_result"
    }
   ],
   "source": [
    "seqs.values()"
   ]
  },
  {
   "cell_type": "code",
   "execution_count": 68,
   "metadata": {
    "collapsed": false
   },
   "outputs": [],
   "source": [
    "seq_list = [str(value) for _, value in seqs.items()]\n"
   ]
  },
  {
   "cell_type": "code",
   "execution_count": null,
   "metadata": {
    "collapsed": true
   },
   "outputs": [],
   "source": []
  },
  {
   "cell_type": "code",
   "execution_count": 49,
   "metadata": {
    "collapsed": false
   },
   "outputs": [
    {
     "name": "stdout",
     "output_type": "stream",
     "text": [
      "0\n",
      "0\n",
      "0\n",
      "Mismatch 4 and 0 at pos 0\n",
      "1\n",
      "1\n",
      "1\n",
      "Mismatch 5 and 0 at pos 1\n",
      "2\n",
      "2\n",
      "2\n",
      "Mismatch 6 and 0 at pos 2\n",
      "3\n",
      "3\n",
      "3\n",
      "Mismatch 7 and 0 at pos 3\n",
      "4\n",
      "4\n",
      "4\n",
      "Mismatch 8 and 0 at pos 4\n",
      "5\n",
      "5\n",
      "5\n",
      "Mismatch 9 and 0 at pos 5\n",
      "6\n",
      "6\n",
      "6\n",
      "Match 0 and 0 at pos 6\n"
     ]
    },
    {
     "data": {
      "text/plain": [
       "(1, 6)"
      ]
     },
     "execution_count": 49,
     "metadata": {},
     "output_type": "execute_result"
    }
   ],
   "source": [
    "find_best_overlap(\"4567890\",\"0\")"
   ]
  },
  {
   "cell_type": "code",
   "execution_count": 55,
   "metadata": {
    "collapsed": false
   },
   "outputs": [],
   "source": [
    "import math\n",
    "# Takes in 2 strings and find the offset for best overlap\n",
    "def find_best_overlap(s1, s2):\n",
    "    # s1 is always shorter string\n",
    "    # min_offset = -(math.ceil(len(s2))-math.ceil(len(s1)/2))\n",
    "    # max_offset = math.ceil(len(s1)/2)\n",
    "    min_offset = 1-len(s2)\n",
    "    max_offset = len(s1)\n",
    "    \n",
    "    # Loop through all potential offsets\n",
    "    # Store results at tuples (score, offset)\n",
    "    offset_scores = []\n",
    "    for offset in range(min_offset, max_offset):\n",
    "        # print(offset)\n",
    "        # For each offset, loop through overlap section to test if overlap\n",
    "        score = 0\n",
    "        for pos in range(max(offset, 0), min(len(s1),len(s2)+offset)):\n",
    "            #print(pos)\n",
    "            #print(offset)\n",
    "            if s1[pos] == s2[pos-offset]:\n",
    "                #print(\"Match {} and {} at pos {}\".format(s1[pos], s2[pos-offset], pos))\n",
    "                score += 1\n",
    "            else: \n",
    "                #print(\"Mismatch {} and {} at pos {}\".format(s1[pos], s2[pos-offset], pos))\n",
    "                offset_scores.append((-1, offset))\n",
    "                break\n",
    "        offset_scores.append((score, offset))\n",
    "    # print(sorted(offset_scores, reverse=True))\n",
    "    return sorted(offset_scores, reverse=True)[0]"
   ]
  },
  {
   "cell_type": "code",
   "execution_count": 56,
   "metadata": {
    "collapsed": false
   },
   "outputs": [],
   "source": [
    "def best_match(seq, list_seq):\n",
    "    results=[]\n",
    "    for s in list_seq:\n",
    "        if seq != s:\n",
    "\n",
    "            score = find_best_overlap(seq, s)\n",
    "                # print(score)\n",
    "            results.append((score, s))\n",
    "#     print(str(seq))\n",
    "#     print(str(sorted(results, key=lambda x: x[0], reverse=True)[0][1]))\n",
    "    return sorted(results, key=lambda x: x[0], reverse=True)[0]"
   ]
  },
  {
   "cell_type": "code",
   "execution_count": 57,
   "metadata": {
    "collapsed": true
   },
   "outputs": [],
   "source": [
    "sample = [\"ATTAGACCTG\", \"CCTGCCGGAA\", \"AGACCTGCCG\", \"GCCGGAATAC\"]"
   ]
  },
  {
   "cell_type": "code",
   "execution_count": 58,
   "metadata": {
    "collapsed": false
   },
   "outputs": [
    {
     "data": {
      "text/plain": [
       "((7, 3), 'AGACCTGCCG')"
      ]
     },
     "execution_count": 58,
     "metadata": {},
     "output_type": "execute_result"
    }
   ],
   "source": [
    "best_match(sample[0],sample)"
   ]
  },
  {
   "cell_type": "code",
   "execution_count": 59,
   "metadata": {
    "collapsed": false,
    "scrolled": true
   },
   "outputs": [],
   "source": [
    "def merge_seq(s1, s2, offset):\n",
    "    if offset > 0:\n",
    "        return s1[:offset] + s2\n",
    "    else:\n",
    "        return s2[:-offset] + s1\n",
    "    "
   ]
  },
  {
   "cell_type": "code",
   "execution_count": 60,
   "metadata": {
    "collapsed": false
   },
   "outputs": [
    {
     "data": {
      "text/plain": [
       "4"
      ]
     },
     "execution_count": 60,
     "metadata": {},
     "output_type": "execute_result"
    }
   ],
   "source": [
    "len(sample)"
   ]
  },
  {
   "cell_type": "code",
   "execution_count": 61,
   "metadata": {
    "collapsed": false
   },
   "outputs": [],
   "source": [
    "def assemble(seqs):\n",
    "    seq_list = sorted(seqs.copy())\n",
    "    s1 = seq_list[0]\n",
    "    seq_list.remove(s1)\n",
    "    while seq_list:\n",
    "        best = best_match(s1, seq_list)\n",
    "        print(s1)\n",
    "        print(best)\n",
    "        offset = best[0][1]\n",
    "        s2 = best[1]\n",
    "#         if len(s1) > len(s2):\n",
    "#             offset = -offset\n",
    "        print(s1,s2,offset)\n",
    "        new_seq = merge_seq(s1, s2, offset)\n",
    "        seq_list.remove(s2)\n",
    "        print(new_seq)\n",
    "        print(seq_list)\n",
    "        s1 = new_seq\n",
    "    return new_seq\n",
    "        "
   ]
  },
  {
   "cell_type": "code",
   "execution_count": 62,
   "metadata": {
    "collapsed": false,
    "scrolled": false
   },
   "outputs": [
    {
     "name": "stdout",
     "output_type": "stream",
     "text": [
      "AGACCTGCCG\n",
      "((7, 3), 'CCTGCCGGAA')\n",
      "AGACCTGCCG CCTGCCGGAA 3\n",
      "AGACCTGCCGGAA\n",
      "['ATTAGACCTG', 'GCCGGAATAC']\n",
      "AGACCTGCCGGAA\n",
      "((7, 6), 'GCCGGAATAC')\n",
      "AGACCTGCCGGAA GCCGGAATAC 6\n",
      "AGACCTGCCGGAATAC\n",
      "['ATTAGACCTG']\n",
      "AGACCTGCCGGAATAC\n",
      "((7, -3), 'ATTAGACCTG')\n",
      "AGACCTGCCGGAATAC ATTAGACCTG -3\n",
      "ATTAGACCTGCCGGAATAC\n",
      "[]\n"
     ]
    },
    {
     "data": {
      "text/plain": [
       "'ATTAGACCTGCCGGAATAC'"
      ]
     },
     "execution_count": 62,
     "metadata": {},
     "output_type": "execute_result"
    }
   ],
   "source": [
    "assemble(sample)"
   ]
  },
  {
   "cell_type": "code",
   "execution_count": 28,
   "metadata": {
    "collapsed": false
   },
   "outputs": [
    {
     "data": {
      "text/plain": [
       "((7, 9), 'GCCGGAATAC')"
      ]
     },
     "execution_count": 28,
     "metadata": {},
     "output_type": "execute_result"
    }
   ],
   "source": [
    "best_match(\"ATTAGACCTGCCGGAA\", ['GCCGGAATAC'])"
   ]
  },
  {
   "cell_type": "code",
   "execution_count": 66,
   "metadata": {
    "collapsed": false,
    "scrolled": false
   },
   "outputs": [
    {
     "name": "stdout",
     "output_type": "stream",
     "text": [
      "Rosalind_0030\n",
      "((11, 0), 'Rosalind_0087')\n",
      "Rosalind_0030 Rosalind_0087 0\n",
      "Rosalind_0030\n",
      "['Rosalind_0093', 'Rosalind_0312', 'Rosalind_0368', 'Rosalind_0372', 'Rosalind_0488', 'Rosalind_0505', 'Rosalind_0525', 'Rosalind_0528', 'Rosalind_0746', 'Rosalind_0829', 'Rosalind_1245', 'Rosalind_1280', 'Rosalind_1605', 'Rosalind_1836', 'Rosalind_2165', 'Rosalind_2381', 'Rosalind_2472', 'Rosalind_2734', 'Rosalind_2924', 'Rosalind_2961', 'Rosalind_3457', 'Rosalind_3606', 'Rosalind_3706', 'Rosalind_3776', 'Rosalind_4083', 'Rosalind_4875', 'Rosalind_5142', 'Rosalind_5256', 'Rosalind_5268', 'Rosalind_5495', 'Rosalind_5515', 'Rosalind_5517', 'Rosalind_5929', 'Rosalind_6284', 'Rosalind_6295', 'Rosalind_7008', 'Rosalind_7321', 'Rosalind_7325', 'Rosalind_7782', 'Rosalind_7890', 'Rosalind_7921', 'Rosalind_8781', 'Rosalind_8901', 'Rosalind_9391', 'Rosalind_9698', 'Rosalind_9816', 'Rosalind_9944', 'Rosalind_9985']\n",
      "Rosalind_0030\n",
      "((11, 0), 'Rosalind_0093')\n",
      "Rosalind_0030 Rosalind_0093 0\n",
      "Rosalind_0030\n",
      "['Rosalind_0312', 'Rosalind_0368', 'Rosalind_0372', 'Rosalind_0488', 'Rosalind_0505', 'Rosalind_0525', 'Rosalind_0528', 'Rosalind_0746', 'Rosalind_0829', 'Rosalind_1245', 'Rosalind_1280', 'Rosalind_1605', 'Rosalind_1836', 'Rosalind_2165', 'Rosalind_2381', 'Rosalind_2472', 'Rosalind_2734', 'Rosalind_2924', 'Rosalind_2961', 'Rosalind_3457', 'Rosalind_3606', 'Rosalind_3706', 'Rosalind_3776', 'Rosalind_4083', 'Rosalind_4875', 'Rosalind_5142', 'Rosalind_5256', 'Rosalind_5268', 'Rosalind_5495', 'Rosalind_5515', 'Rosalind_5517', 'Rosalind_5929', 'Rosalind_6284', 'Rosalind_6295', 'Rosalind_7008', 'Rosalind_7321', 'Rosalind_7325', 'Rosalind_7782', 'Rosalind_7890', 'Rosalind_7921', 'Rosalind_8781', 'Rosalind_8901', 'Rosalind_9391', 'Rosalind_9698', 'Rosalind_9816', 'Rosalind_9944', 'Rosalind_9985']\n",
      "Rosalind_0030\n",
      "((10, 0), 'Rosalind_0312')\n",
      "Rosalind_0030 Rosalind_0312 0\n",
      "Rosalind_0030\n",
      "['Rosalind_0368', 'Rosalind_0372', 'Rosalind_0488', 'Rosalind_0505', 'Rosalind_0525', 'Rosalind_0528', 'Rosalind_0746', 'Rosalind_0829', 'Rosalind_1245', 'Rosalind_1280', 'Rosalind_1605', 'Rosalind_1836', 'Rosalind_2165', 'Rosalind_2381', 'Rosalind_2472', 'Rosalind_2734', 'Rosalind_2924', 'Rosalind_2961', 'Rosalind_3457', 'Rosalind_3606', 'Rosalind_3706', 'Rosalind_3776', 'Rosalind_4083', 'Rosalind_4875', 'Rosalind_5142', 'Rosalind_5256', 'Rosalind_5268', 'Rosalind_5495', 'Rosalind_5515', 'Rosalind_5517', 'Rosalind_5929', 'Rosalind_6284', 'Rosalind_6295', 'Rosalind_7008', 'Rosalind_7321', 'Rosalind_7325', 'Rosalind_7782', 'Rosalind_7890', 'Rosalind_7921', 'Rosalind_8781', 'Rosalind_8901', 'Rosalind_9391', 'Rosalind_9698', 'Rosalind_9816', 'Rosalind_9944', 'Rosalind_9985']\n",
      "Rosalind_0030\n",
      "((10, 0), 'Rosalind_0368')\n",
      "Rosalind_0030 Rosalind_0368 0\n",
      "Rosalind_0030\n",
      "['Rosalind_0372', 'Rosalind_0488', 'Rosalind_0505', 'Rosalind_0525', 'Rosalind_0528', 'Rosalind_0746', 'Rosalind_0829', 'Rosalind_1245', 'Rosalind_1280', 'Rosalind_1605', 'Rosalind_1836', 'Rosalind_2165', 'Rosalind_2381', 'Rosalind_2472', 'Rosalind_2734', 'Rosalind_2924', 'Rosalind_2961', 'Rosalind_3457', 'Rosalind_3606', 'Rosalind_3706', 'Rosalind_3776', 'Rosalind_4083', 'Rosalind_4875', 'Rosalind_5142', 'Rosalind_5256', 'Rosalind_5268', 'Rosalind_5495', 'Rosalind_5515', 'Rosalind_5517', 'Rosalind_5929', 'Rosalind_6284', 'Rosalind_6295', 'Rosalind_7008', 'Rosalind_7321', 'Rosalind_7325', 'Rosalind_7782', 'Rosalind_7890', 'Rosalind_7921', 'Rosalind_8781', 'Rosalind_8901', 'Rosalind_9391', 'Rosalind_9698', 'Rosalind_9816', 'Rosalind_9944', 'Rosalind_9985']\n",
      "Rosalind_0030\n",
      "((10, 0), 'Rosalind_0372')\n",
      "Rosalind_0030 Rosalind_0372 0\n",
      "Rosalind_0030\n",
      "['Rosalind_0488', 'Rosalind_0505', 'Rosalind_0525', 'Rosalind_0528', 'Rosalind_0746', 'Rosalind_0829', 'Rosalind_1245', 'Rosalind_1280', 'Rosalind_1605', 'Rosalind_1836', 'Rosalind_2165', 'Rosalind_2381', 'Rosalind_2472', 'Rosalind_2734', 'Rosalind_2924', 'Rosalind_2961', 'Rosalind_3457', 'Rosalind_3606', 'Rosalind_3706', 'Rosalind_3776', 'Rosalind_4083', 'Rosalind_4875', 'Rosalind_5142', 'Rosalind_5256', 'Rosalind_5268', 'Rosalind_5495', 'Rosalind_5515', 'Rosalind_5517', 'Rosalind_5929', 'Rosalind_6284', 'Rosalind_6295', 'Rosalind_7008', 'Rosalind_7321', 'Rosalind_7325', 'Rosalind_7782', 'Rosalind_7890', 'Rosalind_7921', 'Rosalind_8781', 'Rosalind_8901', 'Rosalind_9391', 'Rosalind_9698', 'Rosalind_9816', 'Rosalind_9944', 'Rosalind_9985']\n",
      "Rosalind_0030\n",
      "((10, 0), 'Rosalind_0488')\n",
      "Rosalind_0030 Rosalind_0488 0\n",
      "Rosalind_0030\n",
      "['Rosalind_0505', 'Rosalind_0525', 'Rosalind_0528', 'Rosalind_0746', 'Rosalind_0829', 'Rosalind_1245', 'Rosalind_1280', 'Rosalind_1605', 'Rosalind_1836', 'Rosalind_2165', 'Rosalind_2381', 'Rosalind_2472', 'Rosalind_2734', 'Rosalind_2924', 'Rosalind_2961', 'Rosalind_3457', 'Rosalind_3606', 'Rosalind_3706', 'Rosalind_3776', 'Rosalind_4083', 'Rosalind_4875', 'Rosalind_5142', 'Rosalind_5256', 'Rosalind_5268', 'Rosalind_5495', 'Rosalind_5515', 'Rosalind_5517', 'Rosalind_5929', 'Rosalind_6284', 'Rosalind_6295', 'Rosalind_7008', 'Rosalind_7321', 'Rosalind_7325', 'Rosalind_7782', 'Rosalind_7890', 'Rosalind_7921', 'Rosalind_8781', 'Rosalind_8901', 'Rosalind_9391', 'Rosalind_9698', 'Rosalind_9816', 'Rosalind_9944', 'Rosalind_9985']\n",
      "Rosalind_0030\n",
      "((10, 0), 'Rosalind_0505')\n",
      "Rosalind_0030 Rosalind_0505 0\n",
      "Rosalind_0030\n",
      "['Rosalind_0525', 'Rosalind_0528', 'Rosalind_0746', 'Rosalind_0829', 'Rosalind_1245', 'Rosalind_1280', 'Rosalind_1605', 'Rosalind_1836', 'Rosalind_2165', 'Rosalind_2381', 'Rosalind_2472', 'Rosalind_2734', 'Rosalind_2924', 'Rosalind_2961', 'Rosalind_3457', 'Rosalind_3606', 'Rosalind_3706', 'Rosalind_3776', 'Rosalind_4083', 'Rosalind_4875', 'Rosalind_5142', 'Rosalind_5256', 'Rosalind_5268', 'Rosalind_5495', 'Rosalind_5515', 'Rosalind_5517', 'Rosalind_5929', 'Rosalind_6284', 'Rosalind_6295', 'Rosalind_7008', 'Rosalind_7321', 'Rosalind_7325', 'Rosalind_7782', 'Rosalind_7890', 'Rosalind_7921', 'Rosalind_8781', 'Rosalind_8901', 'Rosalind_9391', 'Rosalind_9698', 'Rosalind_9816', 'Rosalind_9944', 'Rosalind_9985']\n",
      "Rosalind_0030\n",
      "((10, 0), 'Rosalind_0525')\n",
      "Rosalind_0030 Rosalind_0525 0\n",
      "Rosalind_0030\n",
      "['Rosalind_0528', 'Rosalind_0746', 'Rosalind_0829', 'Rosalind_1245', 'Rosalind_1280', 'Rosalind_1605', 'Rosalind_1836', 'Rosalind_2165', 'Rosalind_2381', 'Rosalind_2472', 'Rosalind_2734', 'Rosalind_2924', 'Rosalind_2961', 'Rosalind_3457', 'Rosalind_3606', 'Rosalind_3706', 'Rosalind_3776', 'Rosalind_4083', 'Rosalind_4875', 'Rosalind_5142', 'Rosalind_5256', 'Rosalind_5268', 'Rosalind_5495', 'Rosalind_5515', 'Rosalind_5517', 'Rosalind_5929', 'Rosalind_6284', 'Rosalind_6295', 'Rosalind_7008', 'Rosalind_7321', 'Rosalind_7325', 'Rosalind_7782', 'Rosalind_7890', 'Rosalind_7921', 'Rosalind_8781', 'Rosalind_8901', 'Rosalind_9391', 'Rosalind_9698', 'Rosalind_9816', 'Rosalind_9944', 'Rosalind_9985']\n",
      "Rosalind_0030\n",
      "((10, 0), 'Rosalind_0528')\n",
      "Rosalind_0030 Rosalind_0528 0\n",
      "Rosalind_0030\n",
      "['Rosalind_0746', 'Rosalind_0829', 'Rosalind_1245', 'Rosalind_1280', 'Rosalind_1605', 'Rosalind_1836', 'Rosalind_2165', 'Rosalind_2381', 'Rosalind_2472', 'Rosalind_2734', 'Rosalind_2924', 'Rosalind_2961', 'Rosalind_3457', 'Rosalind_3606', 'Rosalind_3706', 'Rosalind_3776', 'Rosalind_4083', 'Rosalind_4875', 'Rosalind_5142', 'Rosalind_5256', 'Rosalind_5268', 'Rosalind_5495', 'Rosalind_5515', 'Rosalind_5517', 'Rosalind_5929', 'Rosalind_6284', 'Rosalind_6295', 'Rosalind_7008', 'Rosalind_7321', 'Rosalind_7325', 'Rosalind_7782', 'Rosalind_7890', 'Rosalind_7921', 'Rosalind_8781', 'Rosalind_8901', 'Rosalind_9391', 'Rosalind_9698', 'Rosalind_9816', 'Rosalind_9944', 'Rosalind_9985']\n",
      "Rosalind_0030\n",
      "((10, 0), 'Rosalind_0746')\n",
      "Rosalind_0030 Rosalind_0746 0\n",
      "Rosalind_0030\n",
      "['Rosalind_0829', 'Rosalind_1245', 'Rosalind_1280', 'Rosalind_1605', 'Rosalind_1836', 'Rosalind_2165', 'Rosalind_2381', 'Rosalind_2472', 'Rosalind_2734', 'Rosalind_2924', 'Rosalind_2961', 'Rosalind_3457', 'Rosalind_3606', 'Rosalind_3706', 'Rosalind_3776', 'Rosalind_4083', 'Rosalind_4875', 'Rosalind_5142', 'Rosalind_5256', 'Rosalind_5268', 'Rosalind_5495', 'Rosalind_5515', 'Rosalind_5517', 'Rosalind_5929', 'Rosalind_6284', 'Rosalind_6295', 'Rosalind_7008', 'Rosalind_7321', 'Rosalind_7325', 'Rosalind_7782', 'Rosalind_7890', 'Rosalind_7921', 'Rosalind_8781', 'Rosalind_8901', 'Rosalind_9391', 'Rosalind_9698', 'Rosalind_9816', 'Rosalind_9944', 'Rosalind_9985']\n",
      "Rosalind_0030\n",
      "((10, 0), 'Rosalind_0829')\n",
      "Rosalind_0030 Rosalind_0829 0\n",
      "Rosalind_0030\n",
      "['Rosalind_1245', 'Rosalind_1280', 'Rosalind_1605', 'Rosalind_1836', 'Rosalind_2165', 'Rosalind_2381', 'Rosalind_2472', 'Rosalind_2734', 'Rosalind_2924', 'Rosalind_2961', 'Rosalind_3457', 'Rosalind_3606', 'Rosalind_3706', 'Rosalind_3776', 'Rosalind_4083', 'Rosalind_4875', 'Rosalind_5142', 'Rosalind_5256', 'Rosalind_5268', 'Rosalind_5495', 'Rosalind_5515', 'Rosalind_5517', 'Rosalind_5929', 'Rosalind_6284', 'Rosalind_6295', 'Rosalind_7008', 'Rosalind_7321', 'Rosalind_7325', 'Rosalind_7782', 'Rosalind_7890', 'Rosalind_7921', 'Rosalind_8781', 'Rosalind_8901', 'Rosalind_9391', 'Rosalind_9698', 'Rosalind_9816', 'Rosalind_9944', 'Rosalind_9985']\n",
      "Rosalind_0030\n",
      "((9, 0), 'Rosalind_1245')\n",
      "Rosalind_0030 Rosalind_1245 0\n",
      "Rosalind_0030\n",
      "['Rosalind_1280', 'Rosalind_1605', 'Rosalind_1836', 'Rosalind_2165', 'Rosalind_2381', 'Rosalind_2472', 'Rosalind_2734', 'Rosalind_2924', 'Rosalind_2961', 'Rosalind_3457', 'Rosalind_3606', 'Rosalind_3706', 'Rosalind_3776', 'Rosalind_4083', 'Rosalind_4875', 'Rosalind_5142', 'Rosalind_5256', 'Rosalind_5268', 'Rosalind_5495', 'Rosalind_5515', 'Rosalind_5517', 'Rosalind_5929', 'Rosalind_6284', 'Rosalind_6295', 'Rosalind_7008', 'Rosalind_7321', 'Rosalind_7325', 'Rosalind_7782', 'Rosalind_7890', 'Rosalind_7921', 'Rosalind_8781', 'Rosalind_8901', 'Rosalind_9391', 'Rosalind_9698', 'Rosalind_9816', 'Rosalind_9944', 'Rosalind_9985']\n",
      "Rosalind_0030\n",
      "((9, 0), 'Rosalind_1280')\n",
      "Rosalind_0030 Rosalind_1280 0\n",
      "Rosalind_0030\n",
      "['Rosalind_1605', 'Rosalind_1836', 'Rosalind_2165', 'Rosalind_2381', 'Rosalind_2472', 'Rosalind_2734', 'Rosalind_2924', 'Rosalind_2961', 'Rosalind_3457', 'Rosalind_3606', 'Rosalind_3706', 'Rosalind_3776', 'Rosalind_4083', 'Rosalind_4875', 'Rosalind_5142', 'Rosalind_5256', 'Rosalind_5268', 'Rosalind_5495', 'Rosalind_5515', 'Rosalind_5517', 'Rosalind_5929', 'Rosalind_6284', 'Rosalind_6295', 'Rosalind_7008', 'Rosalind_7321', 'Rosalind_7325', 'Rosalind_7782', 'Rosalind_7890', 'Rosalind_7921', 'Rosalind_8781', 'Rosalind_8901', 'Rosalind_9391', 'Rosalind_9698', 'Rosalind_9816', 'Rosalind_9944', 'Rosalind_9985']\n",
      "Rosalind_0030\n",
      "((9, 0), 'Rosalind_1605')\n",
      "Rosalind_0030 Rosalind_1605 0\n",
      "Rosalind_0030\n",
      "['Rosalind_1836', 'Rosalind_2165', 'Rosalind_2381', 'Rosalind_2472', 'Rosalind_2734', 'Rosalind_2924', 'Rosalind_2961', 'Rosalind_3457', 'Rosalind_3606', 'Rosalind_3706', 'Rosalind_3776', 'Rosalind_4083', 'Rosalind_4875', 'Rosalind_5142', 'Rosalind_5256', 'Rosalind_5268', 'Rosalind_5495', 'Rosalind_5515', 'Rosalind_5517', 'Rosalind_5929', 'Rosalind_6284', 'Rosalind_6295', 'Rosalind_7008', 'Rosalind_7321', 'Rosalind_7325', 'Rosalind_7782', 'Rosalind_7890', 'Rosalind_7921', 'Rosalind_8781', 'Rosalind_8901', 'Rosalind_9391', 'Rosalind_9698', 'Rosalind_9816', 'Rosalind_9944', 'Rosalind_9985']\n",
      "Rosalind_0030\n",
      "((9, 0), 'Rosalind_1836')\n",
      "Rosalind_0030 Rosalind_1836 0\n",
      "Rosalind_0030\n",
      "['Rosalind_2165', 'Rosalind_2381', 'Rosalind_2472', 'Rosalind_2734', 'Rosalind_2924', 'Rosalind_2961', 'Rosalind_3457', 'Rosalind_3606', 'Rosalind_3706', 'Rosalind_3776', 'Rosalind_4083', 'Rosalind_4875', 'Rosalind_5142', 'Rosalind_5256', 'Rosalind_5268', 'Rosalind_5495', 'Rosalind_5515', 'Rosalind_5517', 'Rosalind_5929', 'Rosalind_6284', 'Rosalind_6295', 'Rosalind_7008', 'Rosalind_7321', 'Rosalind_7325', 'Rosalind_7782', 'Rosalind_7890', 'Rosalind_7921', 'Rosalind_8781', 'Rosalind_8901', 'Rosalind_9391', 'Rosalind_9698', 'Rosalind_9816', 'Rosalind_9944', 'Rosalind_9985']\n",
      "Rosalind_0030\n",
      "((9, 0), 'Rosalind_2165')\n",
      "Rosalind_0030 Rosalind_2165 0\n",
      "Rosalind_0030\n",
      "['Rosalind_2381', 'Rosalind_2472', 'Rosalind_2734', 'Rosalind_2924', 'Rosalind_2961', 'Rosalind_3457', 'Rosalind_3606', 'Rosalind_3706', 'Rosalind_3776', 'Rosalind_4083', 'Rosalind_4875', 'Rosalind_5142', 'Rosalind_5256', 'Rosalind_5268', 'Rosalind_5495', 'Rosalind_5515', 'Rosalind_5517', 'Rosalind_5929', 'Rosalind_6284', 'Rosalind_6295', 'Rosalind_7008', 'Rosalind_7321', 'Rosalind_7325', 'Rosalind_7782', 'Rosalind_7890', 'Rosalind_7921', 'Rosalind_8781', 'Rosalind_8901', 'Rosalind_9391', 'Rosalind_9698', 'Rosalind_9816', 'Rosalind_9944', 'Rosalind_9985']\n",
      "Rosalind_0030\n",
      "((9, 0), 'Rosalind_2381')\n",
      "Rosalind_0030 Rosalind_2381 0\n",
      "Rosalind_0030\n",
      "['Rosalind_2472', 'Rosalind_2734', 'Rosalind_2924', 'Rosalind_2961', 'Rosalind_3457', 'Rosalind_3606', 'Rosalind_3706', 'Rosalind_3776', 'Rosalind_4083', 'Rosalind_4875', 'Rosalind_5142', 'Rosalind_5256', 'Rosalind_5268', 'Rosalind_5495', 'Rosalind_5515', 'Rosalind_5517', 'Rosalind_5929', 'Rosalind_6284', 'Rosalind_6295', 'Rosalind_7008', 'Rosalind_7321', 'Rosalind_7325', 'Rosalind_7782', 'Rosalind_7890', 'Rosalind_7921', 'Rosalind_8781', 'Rosalind_8901', 'Rosalind_9391', 'Rosalind_9698', 'Rosalind_9816', 'Rosalind_9944', 'Rosalind_9985']\n",
      "Rosalind_0030\n",
      "((9, 0), 'Rosalind_2472')\n",
      "Rosalind_0030 Rosalind_2472 0\n",
      "Rosalind_0030\n",
      "['Rosalind_2734', 'Rosalind_2924', 'Rosalind_2961', 'Rosalind_3457', 'Rosalind_3606', 'Rosalind_3706', 'Rosalind_3776', 'Rosalind_4083', 'Rosalind_4875', 'Rosalind_5142', 'Rosalind_5256', 'Rosalind_5268', 'Rosalind_5495', 'Rosalind_5515', 'Rosalind_5517', 'Rosalind_5929', 'Rosalind_6284', 'Rosalind_6295', 'Rosalind_7008', 'Rosalind_7321', 'Rosalind_7325', 'Rosalind_7782', 'Rosalind_7890', 'Rosalind_7921', 'Rosalind_8781', 'Rosalind_8901', 'Rosalind_9391', 'Rosalind_9698', 'Rosalind_9816', 'Rosalind_9944', 'Rosalind_9985']\n",
      "Rosalind_0030\n",
      "((9, 0), 'Rosalind_2734')\n",
      "Rosalind_0030 Rosalind_2734 0\n",
      "Rosalind_0030\n",
      "['Rosalind_2924', 'Rosalind_2961', 'Rosalind_3457', 'Rosalind_3606', 'Rosalind_3706', 'Rosalind_3776', 'Rosalind_4083', 'Rosalind_4875', 'Rosalind_5142', 'Rosalind_5256', 'Rosalind_5268', 'Rosalind_5495', 'Rosalind_5515', 'Rosalind_5517', 'Rosalind_5929', 'Rosalind_6284', 'Rosalind_6295', 'Rosalind_7008', 'Rosalind_7321', 'Rosalind_7325', 'Rosalind_7782', 'Rosalind_7890', 'Rosalind_7921', 'Rosalind_8781', 'Rosalind_8901', 'Rosalind_9391', 'Rosalind_9698', 'Rosalind_9816', 'Rosalind_9944', 'Rosalind_9985']\n",
      "Rosalind_0030\n",
      "((9, 0), 'Rosalind_2924')\n",
      "Rosalind_0030 Rosalind_2924 0\n",
      "Rosalind_0030\n",
      "['Rosalind_2961', 'Rosalind_3457', 'Rosalind_3606', 'Rosalind_3706', 'Rosalind_3776', 'Rosalind_4083', 'Rosalind_4875', 'Rosalind_5142', 'Rosalind_5256', 'Rosalind_5268', 'Rosalind_5495', 'Rosalind_5515', 'Rosalind_5517', 'Rosalind_5929', 'Rosalind_6284', 'Rosalind_6295', 'Rosalind_7008', 'Rosalind_7321', 'Rosalind_7325', 'Rosalind_7782', 'Rosalind_7890', 'Rosalind_7921', 'Rosalind_8781', 'Rosalind_8901', 'Rosalind_9391', 'Rosalind_9698', 'Rosalind_9816', 'Rosalind_9944', 'Rosalind_9985']\n",
      "Rosalind_0030\n",
      "((9, 0), 'Rosalind_2961')\n",
      "Rosalind_0030 Rosalind_2961 0\n",
      "Rosalind_0030\n",
      "['Rosalind_3457', 'Rosalind_3606', 'Rosalind_3706', 'Rosalind_3776', 'Rosalind_4083', 'Rosalind_4875', 'Rosalind_5142', 'Rosalind_5256', 'Rosalind_5268', 'Rosalind_5495', 'Rosalind_5515', 'Rosalind_5517', 'Rosalind_5929', 'Rosalind_6284', 'Rosalind_6295', 'Rosalind_7008', 'Rosalind_7321', 'Rosalind_7325', 'Rosalind_7782', 'Rosalind_7890', 'Rosalind_7921', 'Rosalind_8781', 'Rosalind_8901', 'Rosalind_9391', 'Rosalind_9698', 'Rosalind_9816', 'Rosalind_9944', 'Rosalind_9985']\n",
      "Rosalind_0030\n",
      "((9, 0), 'Rosalind_3457')\n",
      "Rosalind_0030 Rosalind_3457 0\n",
      "Rosalind_0030\n",
      "['Rosalind_3606', 'Rosalind_3706', 'Rosalind_3776', 'Rosalind_4083', 'Rosalind_4875', 'Rosalind_5142', 'Rosalind_5256', 'Rosalind_5268', 'Rosalind_5495', 'Rosalind_5515', 'Rosalind_5517', 'Rosalind_5929', 'Rosalind_6284', 'Rosalind_6295', 'Rosalind_7008', 'Rosalind_7321', 'Rosalind_7325', 'Rosalind_7782', 'Rosalind_7890', 'Rosalind_7921', 'Rosalind_8781', 'Rosalind_8901', 'Rosalind_9391', 'Rosalind_9698', 'Rosalind_9816', 'Rosalind_9944', 'Rosalind_9985']\n",
      "Rosalind_0030\n",
      "((9, 0), 'Rosalind_3606')\n",
      "Rosalind_0030 Rosalind_3606 0\n",
      "Rosalind_0030\n",
      "['Rosalind_3706', 'Rosalind_3776', 'Rosalind_4083', 'Rosalind_4875', 'Rosalind_5142', 'Rosalind_5256', 'Rosalind_5268', 'Rosalind_5495', 'Rosalind_5515', 'Rosalind_5517', 'Rosalind_5929', 'Rosalind_6284', 'Rosalind_6295', 'Rosalind_7008', 'Rosalind_7321', 'Rosalind_7325', 'Rosalind_7782', 'Rosalind_7890', 'Rosalind_7921', 'Rosalind_8781', 'Rosalind_8901', 'Rosalind_9391', 'Rosalind_9698', 'Rosalind_9816', 'Rosalind_9944', 'Rosalind_9985']\n",
      "Rosalind_0030\n",
      "((9, 0), 'Rosalind_3706')\n",
      "Rosalind_0030 Rosalind_3706 0\n",
      "Rosalind_0030\n",
      "['Rosalind_3776', 'Rosalind_4083', 'Rosalind_4875', 'Rosalind_5142', 'Rosalind_5256', 'Rosalind_5268', 'Rosalind_5495', 'Rosalind_5515', 'Rosalind_5517', 'Rosalind_5929', 'Rosalind_6284', 'Rosalind_6295', 'Rosalind_7008', 'Rosalind_7321', 'Rosalind_7325', 'Rosalind_7782', 'Rosalind_7890', 'Rosalind_7921', 'Rosalind_8781', 'Rosalind_8901', 'Rosalind_9391', 'Rosalind_9698', 'Rosalind_9816', 'Rosalind_9944', 'Rosalind_9985']\n",
      "Rosalind_0030\n",
      "((9, 0), 'Rosalind_3776')\n",
      "Rosalind_0030 Rosalind_3776 0\n",
      "Rosalind_0030\n",
      "['Rosalind_4083', 'Rosalind_4875', 'Rosalind_5142', 'Rosalind_5256', 'Rosalind_5268', 'Rosalind_5495', 'Rosalind_5515', 'Rosalind_5517', 'Rosalind_5929', 'Rosalind_6284', 'Rosalind_6295', 'Rosalind_7008', 'Rosalind_7321', 'Rosalind_7325', 'Rosalind_7782', 'Rosalind_7890', 'Rosalind_7921', 'Rosalind_8781', 'Rosalind_8901', 'Rosalind_9391', 'Rosalind_9698', 'Rosalind_9816', 'Rosalind_9944', 'Rosalind_9985']\n",
      "Rosalind_0030\n",
      "((9, 0), 'Rosalind_4083')\n",
      "Rosalind_0030 Rosalind_4083 0\n",
      "Rosalind_0030\n",
      "['Rosalind_4875', 'Rosalind_5142', 'Rosalind_5256', 'Rosalind_5268', 'Rosalind_5495', 'Rosalind_5515', 'Rosalind_5517', 'Rosalind_5929', 'Rosalind_6284', 'Rosalind_6295', 'Rosalind_7008', 'Rosalind_7321', 'Rosalind_7325', 'Rosalind_7782', 'Rosalind_7890', 'Rosalind_7921', 'Rosalind_8781', 'Rosalind_8901', 'Rosalind_9391', 'Rosalind_9698', 'Rosalind_9816', 'Rosalind_9944', 'Rosalind_9985']\n",
      "Rosalind_0030\n",
      "((9, 0), 'Rosalind_4875')\n",
      "Rosalind_0030 Rosalind_4875 0\n",
      "Rosalind_0030\n",
      "['Rosalind_5142', 'Rosalind_5256', 'Rosalind_5268', 'Rosalind_5495', 'Rosalind_5515', 'Rosalind_5517', 'Rosalind_5929', 'Rosalind_6284', 'Rosalind_6295', 'Rosalind_7008', 'Rosalind_7321', 'Rosalind_7325', 'Rosalind_7782', 'Rosalind_7890', 'Rosalind_7921', 'Rosalind_8781', 'Rosalind_8901', 'Rosalind_9391', 'Rosalind_9698', 'Rosalind_9816', 'Rosalind_9944', 'Rosalind_9985']\n",
      "Rosalind_0030\n",
      "((9, 0), 'Rosalind_5142')\n",
      "Rosalind_0030 Rosalind_5142 0\n",
      "Rosalind_0030\n",
      "['Rosalind_5256', 'Rosalind_5268', 'Rosalind_5495', 'Rosalind_5515', 'Rosalind_5517', 'Rosalind_5929', 'Rosalind_6284', 'Rosalind_6295', 'Rosalind_7008', 'Rosalind_7321', 'Rosalind_7325', 'Rosalind_7782', 'Rosalind_7890', 'Rosalind_7921', 'Rosalind_8781', 'Rosalind_8901', 'Rosalind_9391', 'Rosalind_9698', 'Rosalind_9816', 'Rosalind_9944', 'Rosalind_9985']\n",
      "Rosalind_0030\n",
      "((9, 0), 'Rosalind_5256')\n",
      "Rosalind_0030 Rosalind_5256 0\n",
      "Rosalind_0030\n",
      "['Rosalind_5268', 'Rosalind_5495', 'Rosalind_5515', 'Rosalind_5517', 'Rosalind_5929', 'Rosalind_6284', 'Rosalind_6295', 'Rosalind_7008', 'Rosalind_7321', 'Rosalind_7325', 'Rosalind_7782', 'Rosalind_7890', 'Rosalind_7921', 'Rosalind_8781', 'Rosalind_8901', 'Rosalind_9391', 'Rosalind_9698', 'Rosalind_9816', 'Rosalind_9944', 'Rosalind_9985']\n",
      "Rosalind_0030\n",
      "((9, 0), 'Rosalind_5268')\n",
      "Rosalind_0030 Rosalind_5268 0\n",
      "Rosalind_0030\n",
      "['Rosalind_5495', 'Rosalind_5515', 'Rosalind_5517', 'Rosalind_5929', 'Rosalind_6284', 'Rosalind_6295', 'Rosalind_7008', 'Rosalind_7321', 'Rosalind_7325', 'Rosalind_7782', 'Rosalind_7890', 'Rosalind_7921', 'Rosalind_8781', 'Rosalind_8901', 'Rosalind_9391', 'Rosalind_9698', 'Rosalind_9816', 'Rosalind_9944', 'Rosalind_9985']\n",
      "Rosalind_0030\n",
      "((9, 0), 'Rosalind_5495')\n",
      "Rosalind_0030 Rosalind_5495 0\n",
      "Rosalind_0030\n",
      "['Rosalind_5515', 'Rosalind_5517', 'Rosalind_5929', 'Rosalind_6284', 'Rosalind_6295', 'Rosalind_7008', 'Rosalind_7321', 'Rosalind_7325', 'Rosalind_7782', 'Rosalind_7890', 'Rosalind_7921', 'Rosalind_8781', 'Rosalind_8901', 'Rosalind_9391', 'Rosalind_9698', 'Rosalind_9816', 'Rosalind_9944', 'Rosalind_9985']\n",
      "Rosalind_0030\n",
      "((9, 0), 'Rosalind_5515')\n",
      "Rosalind_0030 Rosalind_5515 0\n",
      "Rosalind_0030\n",
      "['Rosalind_5517', 'Rosalind_5929', 'Rosalind_6284', 'Rosalind_6295', 'Rosalind_7008', 'Rosalind_7321', 'Rosalind_7325', 'Rosalind_7782', 'Rosalind_7890', 'Rosalind_7921', 'Rosalind_8781', 'Rosalind_8901', 'Rosalind_9391', 'Rosalind_9698', 'Rosalind_9816', 'Rosalind_9944', 'Rosalind_9985']\n",
      "Rosalind_0030\n",
      "((9, 0), 'Rosalind_5517')\n",
      "Rosalind_0030 Rosalind_5517 0\n",
      "Rosalind_0030\n",
      "['Rosalind_5929', 'Rosalind_6284', 'Rosalind_6295', 'Rosalind_7008', 'Rosalind_7321', 'Rosalind_7325', 'Rosalind_7782', 'Rosalind_7890', 'Rosalind_7921', 'Rosalind_8781', 'Rosalind_8901', 'Rosalind_9391', 'Rosalind_9698', 'Rosalind_9816', 'Rosalind_9944', 'Rosalind_9985']\n",
      "Rosalind_0030\n",
      "((9, 0), 'Rosalind_5929')\n",
      "Rosalind_0030 Rosalind_5929 0\n",
      "Rosalind_0030\n",
      "['Rosalind_6284', 'Rosalind_6295', 'Rosalind_7008', 'Rosalind_7321', 'Rosalind_7325', 'Rosalind_7782', 'Rosalind_7890', 'Rosalind_7921', 'Rosalind_8781', 'Rosalind_8901', 'Rosalind_9391', 'Rosalind_9698', 'Rosalind_9816', 'Rosalind_9944', 'Rosalind_9985']\n",
      "Rosalind_0030\n",
      "((9, 0), 'Rosalind_6284')\n",
      "Rosalind_0030 Rosalind_6284 0\n",
      "Rosalind_0030\n",
      "['Rosalind_6295', 'Rosalind_7008', 'Rosalind_7321', 'Rosalind_7325', 'Rosalind_7782', 'Rosalind_7890', 'Rosalind_7921', 'Rosalind_8781', 'Rosalind_8901', 'Rosalind_9391', 'Rosalind_9698', 'Rosalind_9816', 'Rosalind_9944', 'Rosalind_9985']\n",
      "Rosalind_0030\n",
      "((9, 0), 'Rosalind_6295')\n",
      "Rosalind_0030 Rosalind_6295 0\n",
      "Rosalind_0030\n",
      "['Rosalind_7008', 'Rosalind_7321', 'Rosalind_7325', 'Rosalind_7782', 'Rosalind_7890', 'Rosalind_7921', 'Rosalind_8781', 'Rosalind_8901', 'Rosalind_9391', 'Rosalind_9698', 'Rosalind_9816', 'Rosalind_9944', 'Rosalind_9985']\n",
      "Rosalind_0030\n",
      "((9, 0), 'Rosalind_7008')\n",
      "Rosalind_0030 Rosalind_7008 0\n",
      "Rosalind_0030\n",
      "['Rosalind_7321', 'Rosalind_7325', 'Rosalind_7782', 'Rosalind_7890', 'Rosalind_7921', 'Rosalind_8781', 'Rosalind_8901', 'Rosalind_9391', 'Rosalind_9698', 'Rosalind_9816', 'Rosalind_9944', 'Rosalind_9985']\n",
      "Rosalind_0030\n",
      "((9, 0), 'Rosalind_7321')\n",
      "Rosalind_0030 Rosalind_7321 0\n",
      "Rosalind_0030\n",
      "['Rosalind_7325', 'Rosalind_7782', 'Rosalind_7890', 'Rosalind_7921', 'Rosalind_8781', 'Rosalind_8901', 'Rosalind_9391', 'Rosalind_9698', 'Rosalind_9816', 'Rosalind_9944', 'Rosalind_9985']\n",
      "Rosalind_0030\n",
      "((9, 0), 'Rosalind_7325')\n",
      "Rosalind_0030 Rosalind_7325 0\n",
      "Rosalind_0030\n",
      "['Rosalind_7782', 'Rosalind_7890', 'Rosalind_7921', 'Rosalind_8781', 'Rosalind_8901', 'Rosalind_9391', 'Rosalind_9698', 'Rosalind_9816', 'Rosalind_9944', 'Rosalind_9985']\n",
      "Rosalind_0030\n",
      "((9, 0), 'Rosalind_7782')\n",
      "Rosalind_0030 Rosalind_7782 0\n",
      "Rosalind_0030\n",
      "['Rosalind_7890', 'Rosalind_7921', 'Rosalind_8781', 'Rosalind_8901', 'Rosalind_9391', 'Rosalind_9698', 'Rosalind_9816', 'Rosalind_9944', 'Rosalind_9985']\n",
      "Rosalind_0030\n",
      "((9, 0), 'Rosalind_7890')\n",
      "Rosalind_0030 Rosalind_7890 0\n",
      "Rosalind_0030\n",
      "['Rosalind_7921', 'Rosalind_8781', 'Rosalind_8901', 'Rosalind_9391', 'Rosalind_9698', 'Rosalind_9816', 'Rosalind_9944', 'Rosalind_9985']\n",
      "Rosalind_0030\n",
      "((9, 0), 'Rosalind_7921')\n",
      "Rosalind_0030 Rosalind_7921 0\n",
      "Rosalind_0030\n",
      "['Rosalind_8781', 'Rosalind_8901', 'Rosalind_9391', 'Rosalind_9698', 'Rosalind_9816', 'Rosalind_9944', 'Rosalind_9985']\n",
      "Rosalind_0030\n",
      "((9, 0), 'Rosalind_8781')\n",
      "Rosalind_0030 Rosalind_8781 0\n",
      "Rosalind_0030\n",
      "['Rosalind_8901', 'Rosalind_9391', 'Rosalind_9698', 'Rosalind_9816', 'Rosalind_9944', 'Rosalind_9985']\n",
      "Rosalind_0030\n",
      "((9, 0), 'Rosalind_8901')\n",
      "Rosalind_0030 Rosalind_8901 0\n",
      "Rosalind_0030\n",
      "['Rosalind_9391', 'Rosalind_9698', 'Rosalind_9816', 'Rosalind_9944', 'Rosalind_9985']\n",
      "Rosalind_0030\n",
      "((9, 0), 'Rosalind_9391')\n",
      "Rosalind_0030 Rosalind_9391 0\n",
      "Rosalind_0030\n",
      "['Rosalind_9698', 'Rosalind_9816', 'Rosalind_9944', 'Rosalind_9985']\n",
      "Rosalind_0030\n",
      "((9, 0), 'Rosalind_9698')\n",
      "Rosalind_0030 Rosalind_9698 0\n",
      "Rosalind_0030\n",
      "['Rosalind_9816', 'Rosalind_9944', 'Rosalind_9985']\n",
      "Rosalind_0030\n",
      "((9, 0), 'Rosalind_9816')\n",
      "Rosalind_0030 Rosalind_9816 0\n",
      "Rosalind_0030\n",
      "['Rosalind_9944', 'Rosalind_9985']\n",
      "Rosalind_0030\n",
      "((9, 0), 'Rosalind_9944')\n",
      "Rosalind_0030 Rosalind_9944 0\n",
      "Rosalind_0030\n",
      "['Rosalind_9985']\n",
      "Rosalind_0030\n",
      "((9, 0), 'Rosalind_9985')\n",
      "Rosalind_0030 Rosalind_9985 0\n",
      "Rosalind_0030\n",
      "[]\n"
     ]
    },
    {
     "data": {
      "text/plain": [
       "'Rosalind_0030'"
      ]
     },
     "execution_count": 66,
     "metadata": {},
     "output_type": "execute_result"
    }
   ],
   "source": [
    "assemble(seqs)"
   ]
  },
  {
   "cell_type": "code",
   "execution_count": null,
   "metadata": {
    "collapsed": true
   },
   "outputs": [],
   "source": []
  }
 ],
 "metadata": {
  "kernelspec": {
   "display_name": "Python 3",
   "language": "python",
   "name": "python3"
  },
  "language_info": {
   "codemirror_mode": {
    "name": "ipython",
    "version": 3
   },
   "file_extension": ".py",
   "mimetype": "text/x-python",
   "name": "python",
   "nbconvert_exporter": "python",
   "pygments_lexer": "ipython3",
   "version": "3.5.2"
  }
 },
 "nbformat": 4,
 "nbformat_minor": 2
}
